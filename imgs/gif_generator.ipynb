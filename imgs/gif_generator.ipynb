{
 "cells": [
  {
   "cell_type": "code",
   "execution_count": 9,
   "id": "3d4b7b26-8037-4a27-a6cd-173b11daa192",
   "metadata": {},
   "outputs": [
    {
     "name": "stdout",
     "output_type": "stream",
     "text": [
      "400\n",
      "Generating GIF...\n",
      "GIF genered: representation.gif\n"
     ]
    }
   ],
   "source": [
    "import subprocess\n",
    "import sys\n",
    "import os\n",
    "\n",
    "# Parametres configurables\n",
    "PATH_IMAGES = 'learnt_representation' # Nom carpeta on estan les imatges\n",
    "frames_per_second = 10  # ajustar la llargada dels frames del GIF, com mes petit sigui, mes s'allarguen els frames\n",
    "output_file = f'representation.gif'\n",
    "\n",
    "\n",
    "import imageio\n",
    "filenames = list(map(lambda x: os.path.join(PATH_IMAGES, x), os.listdir(PATH_IMAGES)))\n",
    "print(len(filenames))\n",
    "filenames = [f for f in filenames if '.png' in f]#[:-20]\n",
    "images = []\n",
    "for filename in filenames:\n",
    "    I = imageio.imread(filename)\n",
    "    images.append(I)\n",
    "\n",
    "print('Generating GIF...')\n",
    "imageio.mimsave(output_file, images, fps=frames_per_second)\n",
    "print('GIF genered:', output_file)"
   ]
  },
  {
   "cell_type": "code",
   "execution_count": null,
   "id": "1b9ed95f-dd47-4b64-9cd1-9cc1892b6f8c",
   "metadata": {},
   "outputs": [],
   "source": []
  }
 ],
 "metadata": {
  "kernelspec": {
   "display_name": "Python 3 (ipykernel)",
   "language": "python",
   "name": "python3"
  },
  "language_info": {
   "codemirror_mode": {
    "name": "ipython",
    "version": 3
   },
   "file_extension": ".py",
   "mimetype": "text/x-python",
   "name": "python",
   "nbconvert_exporter": "python",
   "pygments_lexer": "ipython3",
   "version": "3.9.7"
  }
 },
 "nbformat": 4,
 "nbformat_minor": 5
}
